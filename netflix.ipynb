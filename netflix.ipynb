{
 "cells": [
  {
   "cell_type": "code",
   "execution_count": 36,
   "metadata": {},
   "outputs": [
    {
     "name": "stdout",
     "output_type": "stream",
     "text": [
      "Requirement already satisfied: pandas in c:\\users\\yash prakash mestry\\appdata\\local\\programs\\python\\python310\\lib\\site-packages (1.3.4)\n",
      "Requirement already satisfied: python-dateutil>=2.7.3 in c:\\users\\yash prakash mestry\\appdata\\local\\programs\\python\\python310\\lib\\site-packages (from pandas) (2.8.2)\n",
      "Requirement already satisfied: numpy>=1.21.0 in c:\\users\\yash prakash mestry\\appdata\\local\\programs\\python\\python310\\lib\\site-packages (from pandas) (1.21.4)\n",
      "Requirement already satisfied: pytz>=2017.3 in c:\\users\\yash prakash mestry\\appdata\\local\\programs\\python\\python310\\lib\\site-packages (from pandas) (2021.3)\n",
      "Requirement already satisfied: six>=1.5 in c:\\users\\yash prakash mestry\\appdata\\local\\programs\\python\\python310\\lib\\site-packages (from python-dateutil>=2.7.3->pandas) (1.16.0)\n",
      "Note: you may need to restart the kernel to use updated packages.\n"
     ]
    },
    {
     "name": "stderr",
     "output_type": "stream",
     "text": [
      "WARNING: You are using pip version 21.2.3; however, version 21.3.1 is available.\n",
      "You should consider upgrading via the 'C:\\Users\\Yash Prakash Mestry\\AppData\\Local\\Programs\\Python\\Python310\\python.exe -m pip install --upgrade pip' command.\n"
     ]
    }
   ],
   "source": [
    "pip install pandas\n"
   ]
  },
  {
   "cell_type": "code",
   "execution_count": 37,
   "metadata": {},
   "outputs": [
    {
     "name": "stdout",
     "output_type": "stream",
     "text": [
      "Requirement already satisfied: numpy in c:\\users\\yash prakash mestry\\appdata\\local\\programs\\python\\python310\\lib\\site-packages (1.21.4)\n",
      "Note: you may need to restart the kernel to use updated packages.\n"
     ]
    },
    {
     "name": "stderr",
     "output_type": "stream",
     "text": [
      "WARNING: You are using pip version 21.2.3; however, version 21.3.1 is available.\n",
      "You should consider upgrading via the 'C:\\Users\\Yash Prakash Mestry\\AppData\\Local\\Programs\\Python\\Python310\\python.exe -m pip install --upgrade pip' command.\n"
     ]
    }
   ],
   "source": [
    " pip install numpy "
   ]
  },
  {
   "cell_type": "code",
   "execution_count": 38,
   "metadata": {},
   "outputs": [
    {
     "name": "stdout",
     "output_type": "stream",
     "text": [
      "Requirement already satisfied: seaborn in c:\\users\\yash prakash mestry\\appdata\\local\\programs\\python\\python310\\lib\\site-packages (0.11.2)\n",
      "Requirement already satisfied: pandas>=0.23 in c:\\users\\yash prakash mestry\\appdata\\local\\programs\\python\\python310\\lib\\site-packages (from seaborn) (1.3.4)\n",
      "Requirement already satisfied: scipy>=1.0 in c:\\users\\yash prakash mestry\\appdata\\local\\programs\\python\\python310\\lib\\site-packages (from seaborn) (1.7.3)\n",
      "Requirement already satisfied: numpy>=1.15 in c:\\users\\yash prakash mestry\\appdata\\local\\programs\\python\\python310\\lib\\site-packages (from seaborn) (1.21.4)\n",
      "Requirement already satisfied: matplotlib>=2.2 in c:\\users\\yash prakash mestry\\appdata\\local\\programs\\python\\python310\\lib\\site-packages (from seaborn) (3.5.0)\n",
      "Requirement already satisfied: pyparsing>=2.2.1 in c:\\users\\yash prakash mestry\\appdata\\local\\programs\\python\\python310\\lib\\site-packages (from matplotlib>=2.2->seaborn) (3.0.6)\n",
      "Requirement already satisfied: cycler>=0.10 in c:\\users\\yash prakash mestry\\appdata\\local\\programs\\python\\python310\\lib\\site-packages (from matplotlib>=2.2->seaborn) (0.11.0)\n",
      "Requirement already satisfied: setuptools-scm>=4 in c:\\users\\yash prakash mestry\\appdata\\local\\programs\\python\\python310\\lib\\site-packages (from matplotlib>=2.2->seaborn) (6.3.2)\n",
      "Requirement already satisfied: packaging>=20.0 in c:\\users\\yash prakash mestry\\appdata\\local\\programs\\python\\python310\\lib\\site-packages (from matplotlib>=2.2->seaborn) (21.3)\n",
      "Requirement already satisfied: pillow>=6.2.0 in c:\\users\\yash prakash mestry\\appdata\\local\\programs\\python\\python310\\lib\\site-packages (from matplotlib>=2.2->seaborn) (8.4.0)\n",
      "Requirement already satisfied: fonttools>=4.22.0 in c:\\users\\yash prakash mestry\\appdata\\local\\programs\\python\\python310\\lib\\site-packages (from matplotlib>=2.2->seaborn) (4.28.2)\n",
      "Requirement already satisfied: python-dateutil>=2.7 in c:\\users\\yash prakash mestry\\appdata\\local\\programs\\python\\python310\\lib\\site-packages (from matplotlib>=2.2->seaborn) (2.8.2)\n",
      "Requirement already satisfied: kiwisolver>=1.0.1 in c:\\users\\yash prakash mestry\\appdata\\local\\programs\\python\\python310\\lib\\site-packages (from matplotlib>=2.2->seaborn) (1.3.2)\n",
      "Requirement already satisfied: pytz>=2017.3 in c:\\users\\yash prakash mestry\\appdata\\local\\programs\\python\\python310\\lib\\site-packages (from pandas>=0.23->seaborn) (2021.3)Note: you may need to restart the kernel to use updated packages.\n",
      "Requirement already satisfied: six>=1.5 in c:\\users\\yash prakash mestry\\appdata\\local\\programs\\python\\python310\\lib\\site-packages (from python-dateutil>=2.7->matplotlib>=2.2->seaborn) (1.16.0)\n",
      "Requirement already satisfied: setuptools in c:\\users\\yash prakash mestry\\appdata\\local\\programs\\python\\python310\\lib\\site-packages (from setuptools-scm>=4->matplotlib>=2.2->seaborn) (57.4.0)\n",
      "Requirement already satisfied: tomli>=1.0.0 in c:\\users\\yash prakash mestry\\appdata\\local\\programs\\python\\python310\\lib\\site-packages (from setuptools-scm>=4->matplotlib>=2.2->seaborn) (1.2.2)\n",
      "\n"
     ]
    },
    {
     "name": "stderr",
     "output_type": "stream",
     "text": [
      "WARNING: You are using pip version 21.2.3; however, version 21.3.1 is available.\n",
      "You should consider upgrading via the 'C:\\Users\\Yash Prakash Mestry\\AppData\\Local\\Programs\\Python\\Python310\\python.exe -m pip install --upgrade pip' command.\n"
     ]
    }
   ],
   "source": [
    "pip install seaborn"
   ]
  },
  {
   "cell_type": "code",
   "execution_count": 39,
   "metadata": {},
   "outputs": [
    {
     "name": "stdout",
     "output_type": "stream",
     "text": [
      "Requirement already satisfied: plotly in c:\\users\\yash prakash mestry\\appdata\\local\\programs\\python\\python310\\lib\\site-packages (5.4.0)\n",
      "Requirement already satisfied: six in c:\\users\\yash prakash mestry\\appdata\\local\\programs\\python\\python310\\lib\\site-packages (from plotly) (1.16.0)\n",
      "Requirement already satisfied: tenacity>=6.2.0 in c:\\users\\yash prakash mestry\\appdata\\local\\programs\\python\\python310\\lib\\site-packages (from plotly) (8.0.1)\n",
      "Note: you may need to restart the kernel to use updated packages.\n"
     ]
    },
    {
     "name": "stderr",
     "output_type": "stream",
     "text": [
      "WARNING: You are using pip version 21.2.3; however, version 21.3.1 is available.\n",
      "You should consider upgrading via the 'C:\\Users\\Yash Prakash Mestry\\AppData\\Local\\Programs\\Python\\Python310\\python.exe -m pip install --upgrade pip' command.\n"
     ]
    }
   ],
   "source": [
    "pip install plotly"
   ]
  },
  {
   "cell_type": "code",
   "execution_count": 40,
   "metadata": {},
   "outputs": [
    {
     "name": "stdout",
     "output_type": "stream",
     "text": [
      "Requirement already satisfied: matplotlib in c:\\users\\yash prakash mestry\\appdata\\local\\programs\\python\\python310\\lib\\site-packages (3.5.0)\n",
      "Requirement already satisfied: kiwisolver>=1.0.1 in c:\\users\\yash prakash mestry\\appdata\\local\\programs\\python\\python310\\lib\\site-packages (from matplotlib) (1.3.2)\n",
      "Requirement already satisfied: cycler>=0.10 in c:\\users\\yash prakash mestry\\appdata\\local\\programs\\python\\python310\\lib\\site-packages (from matplotlib) (0.11.0)\n",
      "Requirement already satisfied: setuptools-scm>=4 in c:\\users\\yash prakash mestry\\appdata\\local\\programs\\python\\python310\\lib\\site-packages (from matplotlib) (6.3.2)\n",
      "Requirement already satisfied: packaging>=20.0 in c:\\users\\yash prakash mestry\\appdata\\local\\programs\\python\\python310\\lib\\site-packages (from matplotlib) (21.3)\n",
      "Requirement already satisfied: fonttools>=4.22.0 in c:\\users\\yash prakash mestry\\appdata\\local\\programs\\python\\python310\\lib\\site-packages (from matplotlib) (4.28.2)\n",
      "Requirement already satisfied: numpy>=1.17 in c:\\users\\yash prakash mestry\\appdata\\local\\programs\\python\\python310\\lib\\site-packages (from matplotlib) (1.21.4)\n",
      "Requirement already satisfied: python-dateutil>=2.7 in c:\\users\\yash prakash mestry\\appdata\\local\\programs\\python\\python310\\lib\\site-packages (from matplotlib) (2.8.2)\n",
      "Requirement already satisfied: pillow>=6.2.0 in c:\\users\\yash prakash mestry\\appdata\\local\\programs\\python\\python310\\lib\\site-packages (from matplotlib) (8.4.0)\n",
      "Requirement already satisfied: pyparsing>=2.2.1 in c:\\users\\yash prakash mestry\\appdata\\local\\programs\\python\\python310\\lib\\site-packages (from matplotlib) (3.0.6)\n",
      "Requirement already satisfied: six>=1.5 in c:\\users\\yash prakash mestry\\appdata\\local\\programs\\python\\python310\\lib\\site-packages (from python-dateutil>=2.7->matplotlib) (1.16.0)\n",
      "Requirement already satisfied: tomli>=1.0.0 in c:\\users\\yash prakash mestry\\appdata\\local\\programs\\python\\python310\\lib\\site-packages (from setuptools-scm>=4->matplotlib) (1.2.2)\n",
      "Requirement already satisfied: setuptools in c:\\users\\yash prakash mestry\\appdata\\local\\programs\\python\\python310\\lib\\site-packages (from setuptools-scm>=4->matplotlib) (57.4.0)\n",
      "Note: you may need to restart the kernel to use updated packages.\n"
     ]
    },
    {
     "name": "stderr",
     "output_type": "stream",
     "text": [
      "WARNING: You are using pip version 21.2.3; however, version 21.3.1 is available.\n",
      "You should consider upgrading via the 'C:\\Users\\Yash Prakash Mestry\\AppData\\Local\\Programs\\Python\\Python310\\python.exe -m pip install --upgrade pip' command.\n"
     ]
    }
   ],
   "source": [
    "pip install matplotlib"
   ]
  },
  {
   "cell_type": "code",
   "execution_count": 60,
   "metadata": {},
   "outputs": [],
   "source": [
    "import pandas as pd\n",
    "import numpy as np\n",
    "import matplotlib.pyplot as plt\n",
    "import seaborn as sns\n",
    "import plotly as p"
   ]
  },
  {
   "cell_type": "code",
   "execution_count": 42,
   "metadata": {},
   "outputs": [
    {
     "data": {
      "text/html": [
       "<div>\n",
       "<style scoped>\n",
       "    .dataframe tbody tr th:only-of-type {\n",
       "        vertical-align: middle;\n",
       "    }\n",
       "\n",
       "    .dataframe tbody tr th {\n",
       "        vertical-align: top;\n",
       "    }\n",
       "\n",
       "    .dataframe thead th {\n",
       "        text-align: right;\n",
       "    }\n",
       "</style>\n",
       "<table border=\"1\" class=\"dataframe\">\n",
       "  <thead>\n",
       "    <tr style=\"text-align: right;\">\n",
       "      <th></th>\n",
       "      <th>show_id</th>\n",
       "      <th>type</th>\n",
       "      <th>title</th>\n",
       "      <th>director</th>\n",
       "      <th>cast</th>\n",
       "      <th>country</th>\n",
       "      <th>date_added</th>\n",
       "      <th>release_year</th>\n",
       "      <th>rating</th>\n",
       "      <th>duration</th>\n",
       "      <th>listed_in</th>\n",
       "      <th>description</th>\n",
       "    </tr>\n",
       "  </thead>\n",
       "  <tbody>\n",
       "    <tr>\n",
       "      <th>0</th>\n",
       "      <td>s1124</td>\n",
       "      <td>TV Show</td>\n",
       "      <td>Magical Andes</td>\n",
       "      <td>NaN</td>\n",
       "      <td>NaN</td>\n",
       "      <td>Uruguay, Germany</td>\n",
       "      <td>April 1, 2021</td>\n",
       "      <td>2021</td>\n",
       "      <td>TV-G</td>\n",
       "      <td>2 Seasons</td>\n",
       "      <td>Docuseries, International TV Shows, Science &amp; ...</td>\n",
       "      <td>From Argentina to Colombia, this stunning docu...</td>\n",
       "    </tr>\n",
       "    <tr>\n",
       "      <th>1</th>\n",
       "      <td>s1128</td>\n",
       "      <td>TV Show</td>\n",
       "      <td>Prank Encounters</td>\n",
       "      <td>NaN</td>\n",
       "      <td>Gaten Matarazzo</td>\n",
       "      <td>United States</td>\n",
       "      <td>April 1, 2021</td>\n",
       "      <td>2021</td>\n",
       "      <td>TV-MA</td>\n",
       "      <td>2 Seasons</td>\n",
       "      <td>Reality TV, TV Comedies, TV Horror</td>\n",
       "      <td>Monstrous frights meet hilarious reveals on th...</td>\n",
       "    </tr>\n",
       "    <tr>\n",
       "      <th>2</th>\n",
       "      <td>s1137</td>\n",
       "      <td>Movie</td>\n",
       "      <td>Tersanjung the Movie</td>\n",
       "      <td>Hanung Bramantyo, Pandu Adjisurya</td>\n",
       "      <td>Clara Bernadeth, Giorgino Abraham, Kevin Ardil...</td>\n",
       "      <td>Indonesia</td>\n",
       "      <td>April 1, 2021</td>\n",
       "      <td>2021</td>\n",
       "      <td>TV-14</td>\n",
       "      <td>114 min</td>\n",
       "      <td>Dramas, International Movies, Romantic Movies</td>\n",
       "      <td>After growing up in a tumultuous household, Yu...</td>\n",
       "    </tr>\n",
       "    <tr>\n",
       "      <th>3</th>\n",
       "      <td>s1144</td>\n",
       "      <td>TV Show</td>\n",
       "      <td>Worn Stories</td>\n",
       "      <td>NaN</td>\n",
       "      <td>NaN</td>\n",
       "      <td>United States</td>\n",
       "      <td>April 1, 2021</td>\n",
       "      <td>2021</td>\n",
       "      <td>TV-MA</td>\n",
       "      <td>1 Season</td>\n",
       "      <td>Docuseries, Reality TV</td>\n",
       "      <td>In this funny, heartfelt and moving docuseries...</td>\n",
       "    </tr>\n",
       "    <tr>\n",
       "      <th>4</th>\n",
       "      <td>s1083</td>\n",
       "      <td>TV Show</td>\n",
       "      <td>Don't be the First one</td>\n",
       "      <td>NaN</td>\n",
       "      <td>Park Mi-sun, Jang Do-youn</td>\n",
       "      <td>NaN</td>\n",
       "      <td>April 11, 2021</td>\n",
       "      <td>2021</td>\n",
       "      <td>TV-14</td>\n",
       "      <td>1 Season</td>\n",
       "      <td>International TV Shows, Reality TV</td>\n",
       "      <td>Is marriage just better between funny people? ...</td>\n",
       "    </tr>\n",
       "    <tr>\n",
       "      <th>5</th>\n",
       "      <td>s1081</td>\n",
       "      <td>Movie</td>\n",
       "      <td>New Gods: Nezha Reborn</td>\n",
       "      <td>Zhao Ji</td>\n",
       "      <td>Yang Tianxiang, Zhang He, Xuan Xiaoming, Li Sh...</td>\n",
       "      <td>China</td>\n",
       "      <td>April 12, 2021</td>\n",
       "      <td>2021</td>\n",
       "      <td>TV-14</td>\n",
       "      <td>118 min</td>\n",
       "      <td>Action &amp; Adventure, Anime Features, Internatio...</td>\n",
       "      <td>While living as an ordinary deliveryman and mo...</td>\n",
       "    </tr>\n",
       "    <tr>\n",
       "      <th>6</th>\n",
       "      <td>s1076</td>\n",
       "      <td>TV Show</td>\n",
       "      <td>My Love: Six Stories of True Love</td>\n",
       "      <td>Moyoung Jin, Caroline Sá, Deepti Kakkar, Fahad...</td>\n",
       "      <td>NaN</td>\n",
       "      <td>United States, Brazil, Japan, Spain, India</td>\n",
       "      <td>April 13, 2021</td>\n",
       "      <td>2021</td>\n",
       "      <td>TV-PG</td>\n",
       "      <td>1 Season</td>\n",
       "      <td>Docuseries</td>\n",
       "      <td>Six longtime couples in different parts of the...</td>\n",
       "    </tr>\n",
       "    <tr>\n",
       "      <th>7</th>\n",
       "      <td>s1058</td>\n",
       "      <td>TV Show</td>\n",
       "      <td>Dad Stop Embarrassing Me!</td>\n",
       "      <td>NaN</td>\n",
       "      <td>Jamie Foxx, David Alan Grier, Kyla-Drew, Porsc...</td>\n",
       "      <td>United States</td>\n",
       "      <td>April 14, 2021</td>\n",
       "      <td>2021</td>\n",
       "      <td>TV-14</td>\n",
       "      <td>1 Season</td>\n",
       "      <td>TV Comedies</td>\n",
       "      <td>A single dad and cosmetics brand owner figures...</td>\n",
       "    </tr>\n",
       "    <tr>\n",
       "      <th>8</th>\n",
       "      <td>s1059</td>\n",
       "      <td>TV Show</td>\n",
       "      <td>Fate: The Winx Saga</td>\n",
       "      <td>NaN</td>\n",
       "      <td>Abigail Cowen, Hannah Van Der Westhuysen, Prec...</td>\n",
       "      <td>Italy, United Kingdom</td>\n",
       "      <td>April 14, 2021</td>\n",
       "      <td>2021</td>\n",
       "      <td>TV-MA</td>\n",
       "      <td>1 Season</td>\n",
       "      <td>British TV Shows, International TV Shows, TV D...</td>\n",
       "      <td>Determined to master their enchanting powers, ...</td>\n",
       "    </tr>\n",
       "    <tr>\n",
       "      <th>9</th>\n",
       "      <td>s1063</td>\n",
       "      <td>TV Show</td>\n",
       "      <td>Law School</td>\n",
       "      <td>NaN</td>\n",
       "      <td>Kim Myung-min, Kim Beom, Ryu Hye-young, Lee Ju...</td>\n",
       "      <td>South Korea</td>\n",
       "      <td>April 14, 2021</td>\n",
       "      <td>2021</td>\n",
       "      <td>TV-14</td>\n",
       "      <td>1 Season</td>\n",
       "      <td>Crime TV Shows, International TV Shows, TV Dramas</td>\n",
       "      <td>When a grim incident occurs at their prestigio...</td>\n",
       "    </tr>\n",
       "  </tbody>\n",
       "</table>\n",
       "</div>"
      ],
      "text/plain": [
       "  show_id     type                              title  \\\n",
       "0   s1124  TV Show                      Magical Andes   \n",
       "1   s1128  TV Show                   Prank Encounters   \n",
       "2   s1137    Movie               Tersanjung the Movie   \n",
       "3   s1144  TV Show                       Worn Stories   \n",
       "4   s1083  TV Show             Don't be the First one   \n",
       "5   s1081    Movie             New Gods: Nezha Reborn   \n",
       "6   s1076  TV Show  My Love: Six Stories of True Love   \n",
       "7   s1058  TV Show          Dad Stop Embarrassing Me!   \n",
       "8   s1059  TV Show                Fate: The Winx Saga   \n",
       "9   s1063  TV Show                         Law School   \n",
       "\n",
       "                                            director  \\\n",
       "0                                                NaN   \n",
       "1                                                NaN   \n",
       "2                  Hanung Bramantyo, Pandu Adjisurya   \n",
       "3                                                NaN   \n",
       "4                                                NaN   \n",
       "5                                            Zhao Ji   \n",
       "6  Moyoung Jin, Caroline Sá, Deepti Kakkar, Fahad...   \n",
       "7                                                NaN   \n",
       "8                                                NaN   \n",
       "9                                                NaN   \n",
       "\n",
       "                                                cast  \\\n",
       "0                                                NaN   \n",
       "1                                    Gaten Matarazzo   \n",
       "2  Clara Bernadeth, Giorgino Abraham, Kevin Ardil...   \n",
       "3                                                NaN   \n",
       "4                          Park Mi-sun, Jang Do-youn   \n",
       "5  Yang Tianxiang, Zhang He, Xuan Xiaoming, Li Sh...   \n",
       "6                                                NaN   \n",
       "7  Jamie Foxx, David Alan Grier, Kyla-Drew, Porsc...   \n",
       "8  Abigail Cowen, Hannah Van Der Westhuysen, Prec...   \n",
       "9  Kim Myung-min, Kim Beom, Ryu Hye-young, Lee Ju...   \n",
       "\n",
       "                                      country      date_added  release_year  \\\n",
       "0                            Uruguay, Germany   April 1, 2021          2021   \n",
       "1                               United States   April 1, 2021          2021   \n",
       "2                                   Indonesia   April 1, 2021          2021   \n",
       "3                               United States   April 1, 2021          2021   \n",
       "4                                         NaN  April 11, 2021          2021   \n",
       "5                                       China  April 12, 2021          2021   \n",
       "6  United States, Brazil, Japan, Spain, India  April 13, 2021          2021   \n",
       "7                               United States  April 14, 2021          2021   \n",
       "8                       Italy, United Kingdom  April 14, 2021          2021   \n",
       "9                                 South Korea  April 14, 2021          2021   \n",
       "\n",
       "  rating   duration                                          listed_in  \\\n",
       "0   TV-G  2 Seasons  Docuseries, International TV Shows, Science & ...   \n",
       "1  TV-MA  2 Seasons                 Reality TV, TV Comedies, TV Horror   \n",
       "2  TV-14    114 min      Dramas, International Movies, Romantic Movies   \n",
       "3  TV-MA   1 Season                             Docuseries, Reality TV   \n",
       "4  TV-14   1 Season                 International TV Shows, Reality TV   \n",
       "5  TV-14    118 min  Action & Adventure, Anime Features, Internatio...   \n",
       "6  TV-PG   1 Season                                         Docuseries   \n",
       "7  TV-14   1 Season                                        TV Comedies   \n",
       "8  TV-MA   1 Season  British TV Shows, International TV Shows, TV D...   \n",
       "9  TV-14   1 Season  Crime TV Shows, International TV Shows, TV Dramas   \n",
       "\n",
       "                                         description  \n",
       "0  From Argentina to Colombia, this stunning docu...  \n",
       "1  Monstrous frights meet hilarious reveals on th...  \n",
       "2  After growing up in a tumultuous household, Yu...  \n",
       "3  In this funny, heartfelt and moving docuseries...  \n",
       "4  Is marriage just better between funny people? ...  \n",
       "5  While living as an ordinary deliveryman and mo...  \n",
       "6  Six longtime couples in different parts of the...  \n",
       "7  A single dad and cosmetics brand owner figures...  \n",
       "8  Determined to master their enchanting powers, ...  \n",
       "9  When a grim incident occurs at their prestigio...  "
      ]
     },
     "execution_count": 42,
     "metadata": {},
     "output_type": "execute_result"
    }
   ],
   "source": [
    "df=pd.read_csv(\"D:/PYTHON/python for analysis/netflix_titles.csv\")\n",
    "df.head(10)\n"
   ]
  },
  {
   "cell_type": "code",
   "execution_count": 43,
   "metadata": {},
   "outputs": [
    {
     "data": {
      "text/html": [
       "<div>\n",
       "<style scoped>\n",
       "    .dataframe tbody tr th:only-of-type {\n",
       "        vertical-align: middle;\n",
       "    }\n",
       "\n",
       "    .dataframe tbody tr th {\n",
       "        vertical-align: top;\n",
       "    }\n",
       "\n",
       "    .dataframe thead th {\n",
       "        text-align: right;\n",
       "    }\n",
       "</style>\n",
       "<table border=\"1\" class=\"dataframe\">\n",
       "  <thead>\n",
       "    <tr style=\"text-align: right;\">\n",
       "      <th></th>\n",
       "      <th>release_year</th>\n",
       "    </tr>\n",
       "  </thead>\n",
       "  <tbody>\n",
       "    <tr>\n",
       "      <th>count</th>\n",
       "      <td>8807.000000</td>\n",
       "    </tr>\n",
       "    <tr>\n",
       "      <th>mean</th>\n",
       "      <td>2014.180198</td>\n",
       "    </tr>\n",
       "    <tr>\n",
       "      <th>std</th>\n",
       "      <td>8.819312</td>\n",
       "    </tr>\n",
       "    <tr>\n",
       "      <th>min</th>\n",
       "      <td>1925.000000</td>\n",
       "    </tr>\n",
       "    <tr>\n",
       "      <th>25%</th>\n",
       "      <td>2013.000000</td>\n",
       "    </tr>\n",
       "    <tr>\n",
       "      <th>50%</th>\n",
       "      <td>2017.000000</td>\n",
       "    </tr>\n",
       "    <tr>\n",
       "      <th>75%</th>\n",
       "      <td>2019.000000</td>\n",
       "    </tr>\n",
       "    <tr>\n",
       "      <th>max</th>\n",
       "      <td>2021.000000</td>\n",
       "    </tr>\n",
       "  </tbody>\n",
       "</table>\n",
       "</div>"
      ],
      "text/plain": [
       "       release_year\n",
       "count   8807.000000\n",
       "mean    2014.180198\n",
       "std        8.819312\n",
       "min     1925.000000\n",
       "25%     2013.000000\n",
       "50%     2017.000000\n",
       "75%     2019.000000\n",
       "max     2021.000000"
      ]
     },
     "execution_count": 43,
     "metadata": {},
     "output_type": "execute_result"
    }
   ],
   "source": [
    "df.info\n",
    "df.describe()"
   ]
  },
  {
   "cell_type": "code",
   "execution_count": 44,
   "metadata": {},
   "outputs": [
    {
     "data": {
      "text/plain": [
       "Index(['show_id', 'type', 'title', 'director', 'cast', 'country', 'date_added',\n",
       "       'release_year', 'rating', 'duration', 'listed_in', 'description'],\n",
       "      dtype='object')"
      ]
     },
     "execution_count": 44,
     "metadata": {},
     "output_type": "execute_result"
    }
   ],
   "source": [
    "df.columns"
   ]
  },
  {
   "cell_type": "code",
   "execution_count": null,
   "metadata": {},
   "outputs": [],
   "source": []
  },
  {
   "cell_type": "code",
   "execution_count": 45,
   "metadata": {},
   "outputs": [
    {
     "data": {
      "text/plain": [
       "(8807, 12)"
      ]
     },
     "execution_count": 45,
     "metadata": {},
     "output_type": "execute_result"
    }
   ],
   "source": [
    "df.shape"
   ]
  },
  {
   "cell_type": "code",
   "execution_count": 46,
   "metadata": {},
   "outputs": [
    {
     "data": {
      "text/plain": [
       "show_id            0\n",
       "type               0\n",
       "title              0\n",
       "director        2634\n",
       "cast             825\n",
       "country          831\n",
       "date_added        10\n",
       "release_year       0\n",
       "rating             4\n",
       "duration           3\n",
       "listed_in          0\n",
       "description        0\n",
       "dtype: int64"
      ]
     },
     "execution_count": 46,
     "metadata": {},
     "output_type": "execute_result"
    }
   ],
   "source": [
    "df.isnull().sum()"
   ]
  },
  {
   "cell_type": "code",
   "execution_count": 47,
   "metadata": {},
   "outputs": [],
   "source": [
    "import matplotlib.pylab as plt"
   ]
  },
  {
   "cell_type": "code",
   "execution_count": 48,
   "metadata": {},
   "outputs": [
    {
     "data": {
      "text/html": [
       "<div>\n",
       "<style scoped>\n",
       "    .dataframe tbody tr th:only-of-type {\n",
       "        vertical-align: middle;\n",
       "    }\n",
       "\n",
       "    .dataframe tbody tr th {\n",
       "        vertical-align: top;\n",
       "    }\n",
       "\n",
       "    .dataframe thead th {\n",
       "        text-align: right;\n",
       "    }\n",
       "</style>\n",
       "<table border=\"1\" class=\"dataframe\">\n",
       "  <thead>\n",
       "    <tr style=\"text-align: right;\">\n",
       "      <th></th>\n",
       "      <th>show_id</th>\n",
       "      <th>type</th>\n",
       "      <th>title</th>\n",
       "      <th>director</th>\n",
       "      <th>cast</th>\n",
       "      <th>country</th>\n",
       "      <th>date_added</th>\n",
       "      <th>release_year</th>\n",
       "      <th>rating</th>\n",
       "      <th>duration</th>\n",
       "      <th>listed_in</th>\n",
       "      <th>description</th>\n",
       "    </tr>\n",
       "  </thead>\n",
       "  <tbody>\n",
       "    <tr>\n",
       "      <th>0</th>\n",
       "      <td>s1124</td>\n",
       "      <td>TV Show</td>\n",
       "      <td>Magical Andes</td>\n",
       "      <td>NaN</td>\n",
       "      <td>NaN</td>\n",
       "      <td>Uruguay, Germany</td>\n",
       "      <td>April 1, 2021</td>\n",
       "      <td>2021</td>\n",
       "      <td>TV-G</td>\n",
       "      <td>2 Seasons</td>\n",
       "      <td>Docuseries, International TV Shows, Science &amp; ...</td>\n",
       "      <td>From Argentina to Colombia, this stunning docu...</td>\n",
       "    </tr>\n",
       "    <tr>\n",
       "      <th>1</th>\n",
       "      <td>s1128</td>\n",
       "      <td>TV Show</td>\n",
       "      <td>Prank Encounters</td>\n",
       "      <td>NaN</td>\n",
       "      <td>Gaten Matarazzo</td>\n",
       "      <td>United States</td>\n",
       "      <td>April 1, 2021</td>\n",
       "      <td>2021</td>\n",
       "      <td>TV-MA</td>\n",
       "      <td>2 Seasons</td>\n",
       "      <td>Reality TV, TV Comedies, TV Horror</td>\n",
       "      <td>Monstrous frights meet hilarious reveals on th...</td>\n",
       "    </tr>\n",
       "    <tr>\n",
       "      <th>2</th>\n",
       "      <td>s1137</td>\n",
       "      <td>Movie</td>\n",
       "      <td>Tersanjung the Movie</td>\n",
       "      <td>Hanung Bramantyo, Pandu Adjisurya</td>\n",
       "      <td>Clara Bernadeth, Giorgino Abraham, Kevin Ardil...</td>\n",
       "      <td>Indonesia</td>\n",
       "      <td>April 1, 2021</td>\n",
       "      <td>2021</td>\n",
       "      <td>TV-14</td>\n",
       "      <td>114 min</td>\n",
       "      <td>Dramas, International Movies, Romantic Movies</td>\n",
       "      <td>After growing up in a tumultuous household, Yu...</td>\n",
       "    </tr>\n",
       "    <tr>\n",
       "      <th>3</th>\n",
       "      <td>s1144</td>\n",
       "      <td>TV Show</td>\n",
       "      <td>Worn Stories</td>\n",
       "      <td>NaN</td>\n",
       "      <td>NaN</td>\n",
       "      <td>United States</td>\n",
       "      <td>April 1, 2021</td>\n",
       "      <td>2021</td>\n",
       "      <td>TV-MA</td>\n",
       "      <td>1 Season</td>\n",
       "      <td>Docuseries, Reality TV</td>\n",
       "      <td>In this funny, heartfelt and moving docuseries...</td>\n",
       "    </tr>\n",
       "    <tr>\n",
       "      <th>4</th>\n",
       "      <td>s1083</td>\n",
       "      <td>TV Show</td>\n",
       "      <td>Don't be the First one</td>\n",
       "      <td>NaN</td>\n",
       "      <td>Park Mi-sun, Jang Do-youn</td>\n",
       "      <td>NaN</td>\n",
       "      <td>April 11, 2021</td>\n",
       "      <td>2021</td>\n",
       "      <td>TV-14</td>\n",
       "      <td>1 Season</td>\n",
       "      <td>International TV Shows, Reality TV</td>\n",
       "      <td>Is marriage just better between funny people? ...</td>\n",
       "    </tr>\n",
       "  </tbody>\n",
       "</table>\n",
       "</div>"
      ],
      "text/plain": [
       "  show_id     type                   title                           director  \\\n",
       "0   s1124  TV Show           Magical Andes                                NaN   \n",
       "1   s1128  TV Show        Prank Encounters                                NaN   \n",
       "2   s1137    Movie    Tersanjung the Movie  Hanung Bramantyo, Pandu Adjisurya   \n",
       "3   s1144  TV Show            Worn Stories                                NaN   \n",
       "4   s1083  TV Show  Don't be the First one                                NaN   \n",
       "\n",
       "                                                cast           country  \\\n",
       "0                                                NaN  Uruguay, Germany   \n",
       "1                                    Gaten Matarazzo     United States   \n",
       "2  Clara Bernadeth, Giorgino Abraham, Kevin Ardil...         Indonesia   \n",
       "3                                                NaN     United States   \n",
       "4                          Park Mi-sun, Jang Do-youn               NaN   \n",
       "\n",
       "       date_added  release_year rating   duration  \\\n",
       "0   April 1, 2021          2021   TV-G  2 Seasons   \n",
       "1   April 1, 2021          2021  TV-MA  2 Seasons   \n",
       "2   April 1, 2021          2021  TV-14    114 min   \n",
       "3   April 1, 2021          2021  TV-MA   1 Season   \n",
       "4  April 11, 2021          2021  TV-14   1 Season   \n",
       "\n",
       "                                           listed_in  \\\n",
       "0  Docuseries, International TV Shows, Science & ...   \n",
       "1                 Reality TV, TV Comedies, TV Horror   \n",
       "2      Dramas, International Movies, Romantic Movies   \n",
       "3                             Docuseries, Reality TV   \n",
       "4                 International TV Shows, Reality TV   \n",
       "\n",
       "                                         description  \n",
       "0  From Argentina to Colombia, this stunning docu...  \n",
       "1  Monstrous frights meet hilarious reveals on th...  \n",
       "2  After growing up in a tumultuous household, Yu...  \n",
       "3  In this funny, heartfelt and moving docuseries...  \n",
       "4  Is marriage just better between funny people? ...  "
      ]
     },
     "execution_count": 48,
     "metadata": {},
     "output_type": "execute_result"
    }
   ],
   "source": [
    "df.replace(\"?\",np.nan,inplace=True)\n",
    "df.head()"
   ]
  },
  {
   "cell_type": "code",
   "execution_count": 49,
   "metadata": {},
   "outputs": [
    {
     "data": {
      "text/plain": [
       "show_id            0\n",
       "type               0\n",
       "title              0\n",
       "director        2634\n",
       "cast             825\n",
       "country          831\n",
       "date_added        10\n",
       "release_year       0\n",
       "rating             4\n",
       "duration           3\n",
       "listed_in          0\n",
       "description        0\n",
       "dtype: int64"
      ]
     },
     "execution_count": 49,
     "metadata": {},
     "output_type": "execute_result"
    }
   ],
   "source": [
    "df.isnull().sum()"
   ]
  },
  {
   "cell_type": "code",
   "execution_count": 50,
   "metadata": {},
   "outputs": [
    {
     "data": {
      "text/html": [
       "<div>\n",
       "<style scoped>\n",
       "    .dataframe tbody tr th:only-of-type {\n",
       "        vertical-align: middle;\n",
       "    }\n",
       "\n",
       "    .dataframe tbody tr th {\n",
       "        vertical-align: top;\n",
       "    }\n",
       "\n",
       "    .dataframe thead th {\n",
       "        text-align: right;\n",
       "    }\n",
       "</style>\n",
       "<table border=\"1\" class=\"dataframe\">\n",
       "  <thead>\n",
       "    <tr style=\"text-align: right;\">\n",
       "      <th></th>\n",
       "      <th>show_id</th>\n",
       "      <th>type</th>\n",
       "      <th>title</th>\n",
       "      <th>director</th>\n",
       "      <th>cast</th>\n",
       "      <th>country</th>\n",
       "      <th>date_added</th>\n",
       "      <th>release_year</th>\n",
       "      <th>rating</th>\n",
       "      <th>duration</th>\n",
       "      <th>listed_in</th>\n",
       "      <th>description</th>\n",
       "    </tr>\n",
       "  </thead>\n",
       "  <tbody>\n",
       "    <tr>\n",
       "      <th>0</th>\n",
       "      <td>s1124</td>\n",
       "      <td>TV Show</td>\n",
       "      <td>Magical Andes</td>\n",
       "      <td>NaN</td>\n",
       "      <td>NaN</td>\n",
       "      <td>Uruguay, Germany</td>\n",
       "      <td>April 1, 2021</td>\n",
       "      <td>2021</td>\n",
       "      <td>TV-G</td>\n",
       "      <td>2 Seasons</td>\n",
       "      <td>Docuseries, International TV Shows, Science &amp; ...</td>\n",
       "      <td>From Argentina to Colombia, this stunning docu...</td>\n",
       "    </tr>\n",
       "    <tr>\n",
       "      <th>1</th>\n",
       "      <td>s1128</td>\n",
       "      <td>TV Show</td>\n",
       "      <td>Prank Encounters</td>\n",
       "      <td>NaN</td>\n",
       "      <td>Gaten Matarazzo</td>\n",
       "      <td>United States</td>\n",
       "      <td>April 1, 2021</td>\n",
       "      <td>2021</td>\n",
       "      <td>TV-MA</td>\n",
       "      <td>2 Seasons</td>\n",
       "      <td>Reality TV, TV Comedies, TV Horror</td>\n",
       "      <td>Monstrous frights meet hilarious reveals on th...</td>\n",
       "    </tr>\n",
       "    <tr>\n",
       "      <th>2</th>\n",
       "      <td>s1137</td>\n",
       "      <td>Movie</td>\n",
       "      <td>Tersanjung the Movie</td>\n",
       "      <td>Hanung Bramantyo, Pandu Adjisurya</td>\n",
       "      <td>Clara Bernadeth, Giorgino Abraham, Kevin Ardil...</td>\n",
       "      <td>Indonesia</td>\n",
       "      <td>April 1, 2021</td>\n",
       "      <td>2021</td>\n",
       "      <td>TV-14</td>\n",
       "      <td>114 min</td>\n",
       "      <td>Dramas, International Movies, Romantic Movies</td>\n",
       "      <td>After growing up in a tumultuous household, Yu...</td>\n",
       "    </tr>\n",
       "    <tr>\n",
       "      <th>3</th>\n",
       "      <td>s1144</td>\n",
       "      <td>TV Show</td>\n",
       "      <td>Worn Stories</td>\n",
       "      <td>NaN</td>\n",
       "      <td>NaN</td>\n",
       "      <td>United States</td>\n",
       "      <td>April 1, 2021</td>\n",
       "      <td>2021</td>\n",
       "      <td>TV-MA</td>\n",
       "      <td>1 Season</td>\n",
       "      <td>Docuseries, Reality TV</td>\n",
       "      <td>In this funny, heartfelt and moving docuseries...</td>\n",
       "    </tr>\n",
       "    <tr>\n",
       "      <th>4</th>\n",
       "      <td>s1083</td>\n",
       "      <td>TV Show</td>\n",
       "      <td>Don't be the First one</td>\n",
       "      <td>NaN</td>\n",
       "      <td>Park Mi-sun, Jang Do-youn</td>\n",
       "      <td>NaN</td>\n",
       "      <td>April 11, 2021</td>\n",
       "      <td>2021</td>\n",
       "      <td>TV-14</td>\n",
       "      <td>1 Season</td>\n",
       "      <td>International TV Shows, Reality TV</td>\n",
       "      <td>Is marriage just better between funny people? ...</td>\n",
       "    </tr>\n",
       "  </tbody>\n",
       "</table>\n",
       "</div>"
      ],
      "text/plain": [
       "  show_id     type                   title                           director  \\\n",
       "0   s1124  TV Show           Magical Andes                                NaN   \n",
       "1   s1128  TV Show        Prank Encounters                                NaN   \n",
       "2   s1137    Movie    Tersanjung the Movie  Hanung Bramantyo, Pandu Adjisurya   \n",
       "3   s1144  TV Show            Worn Stories                                NaN   \n",
       "4   s1083  TV Show  Don't be the First one                                NaN   \n",
       "\n",
       "                                                cast           country  \\\n",
       "0                                                NaN  Uruguay, Germany   \n",
       "1                                    Gaten Matarazzo     United States   \n",
       "2  Clara Bernadeth, Giorgino Abraham, Kevin Ardil...         Indonesia   \n",
       "3                                                NaN     United States   \n",
       "4                          Park Mi-sun, Jang Do-youn               NaN   \n",
       "\n",
       "       date_added  release_year rating   duration  \\\n",
       "0   April 1, 2021          2021   TV-G  2 Seasons   \n",
       "1   April 1, 2021          2021  TV-MA  2 Seasons   \n",
       "2   April 1, 2021          2021  TV-14    114 min   \n",
       "3   April 1, 2021          2021  TV-MA   1 Season   \n",
       "4  April 11, 2021          2021  TV-14   1 Season   \n",
       "\n",
       "                                           listed_in  \\\n",
       "0  Docuseries, International TV Shows, Science & ...   \n",
       "1                 Reality TV, TV Comedies, TV Horror   \n",
       "2      Dramas, International Movies, Romantic Movies   \n",
       "3                             Docuseries, Reality TV   \n",
       "4                 International TV Shows, Reality TV   \n",
       "\n",
       "                                         description  \n",
       "0  From Argentina to Colombia, this stunning docu...  \n",
       "1  Monstrous frights meet hilarious reveals on th...  \n",
       "2  After growing up in a tumultuous household, Yu...  \n",
       "3  In this funny, heartfelt and moving docuseries...  \n",
       "4  Is marriage just better between funny people? ...  "
      ]
     },
     "execution_count": 50,
     "metadata": {},
     "output_type": "execute_result"
    }
   ],
   "source": [
    "df.dropna(subset=[\"duration\"],axis=0,inplace=True)\n",
    "df.head()\n",
    "df.isnull().sum()\n",
    "df.dropna(subset=[\"rating\"],axis=0,inplace=True)\n",
    "df.reset_index(drop=True,inplace=True)\n",
    "df.head()\n"
   ]
  },
  {
   "cell_type": "code",
   "execution_count": 51,
   "metadata": {},
   "outputs": [
    {
     "data": {
      "text/plain": [
       "(8800, 12)"
      ]
     },
     "execution_count": 51,
     "metadata": {},
     "output_type": "execute_result"
    }
   ],
   "source": [
    "df.shape"
   ]
  },
  {
   "cell_type": "code",
   "execution_count": 52,
   "metadata": {},
   "outputs": [],
   "source": [
    "df[[\"release_year\"]]=df[[\"release_year\"]].astype(\"int\")"
   ]
  },
  {
   "cell_type": "code",
   "execution_count": 53,
   "metadata": {},
   "outputs": [
    {
     "data": {
      "text/plain": [
       "dtype('int32')"
      ]
     },
     "execution_count": 53,
     "metadata": {},
     "output_type": "execute_result"
    }
   ],
   "source": [
    "df['release_year'].dtype"
   ]
  },
  {
   "cell_type": "code",
   "execution_count": 54,
   "metadata": {},
   "outputs": [
    {
     "data": {
      "text/plain": [
       "Text(0, 0.5, 'release_year')"
      ]
     },
     "execution_count": 54,
     "metadata": {},
     "output_type": "execute_result"
    },
    {
     "data": {
      "image/png": "[encoded data removed]",
      "text/plain": [
       "<Figure size 432x288 with 1 Axes>"
      ]
     },
     "metadata": {
      "needs_background": "light"
     },
     "output_type": "display_data"
    }
   ],
   "source": [
    "# Tvshows,movies releasing each year\n",
    "\n",
    "\n",
    "%matplotlib inline\n",
    "import matplotlib as plt\n",
    "from matplotlib import pyplot\n",
    "plt.pyplot.hist(df[\"type\"])\n",
    "# set x/y labels and plot title\n",
    "plt.pyplot.xlabel(\"type\")\n",
    "plt.pyplot.ylabel(\"release_year\")\n"
   ]
  },
  {
   "cell_type": "code",
   "execution_count": 56,
   "metadata": {},
   "outputs": [
    {
     "data": {
      "image/png": "[encoded data removed]",
      "text/plain": [
       "<Figure size 432x288 with 1 Axes>"
      ]
     },
     "metadata": {},
     "output_type": "display_data"
    }
   ],
   "source": [
    "sns.set(style='darkgrid')\n",
    "pl=sns.countplot(x='type',data=df,palette=['Red','Black'])\n"
   ]
  },
  {
   "cell_type": "code",
   "execution_count": 57,
   "metadata": {},
   "outputs": [
    {
     "data": {
      "text/plain": [
       "array(['TV-G', 'TV-MA', 'TV-14', 'TV-PG', 'TV-Y7', 'TV-Y', 'R', 'PG',\n",
       "       'PG-13', 'G', 'NR', 'TV-Y7-FV', 'NC-17', 'UR', 'TV-13', 'TV-12',\n",
       "       'TV-11', 'TV-10', 'TV-9', 'TV-8', 'TV-7', 'TV-6', 'TV-5', 'TV-4',\n",
       "       'TV-3', 'TV-2', 'TV-1', 'TV-0'], dtype=object)"
      ]
     },
     "execution_count": 57,
     "metadata": {},
     "output_type": "execute_result"
    }
   ],
   "source": [
    "df['rating'].unique()"
   ]
  },
  {
   "cell_type": "code",
   "execution_count": 61,
   "metadata": {},
   "outputs": [
    {
     "data": {
      "text/plain": [
       "<AxesSubplot:xlabel='rating', ylabel='count'>"
      ]
     },
     "execution_count": 61,
     "metadata": {},
     "output_type": "execute_result"
    },
    {
     "data": {
      "image/png": "[encoded data removed]",
      "text/plain": [
       "<Figure size 1080x576 with 1 Axes>"
      ]
     },
     "metadata": {},
     "output_type": "display_data"
    }
   ],
   "source": [
    "rate=['PG-13', 'TV-MA', 'TV-14', 'TV-Y7', 'PG', 'R', 'TV-PG', 'TV-Y',\n",
    "       'TV-G', 'G', 'NC-17', 'NR', 'TV-Y7-FV', 'UR']\n",
    "plt.figure(figsize=(15,8))\n",
    "sns.countplot(x='rating',data=df,hue=df.type,order=rate,palette=['Red','Black'])"
   ]
  },
  {
   "cell_type": "code",
   "execution_count": 63,
   "metadata": {},
   "outputs": [
    {
     "data": {
      "text/plain": [
       "title\n",
       "Magical Andes                   Docuseries\n",
       "Magical Andes       International TV Shows\n",
       "Magical Andes          Science & Nature TV\n",
       "Prank Encounters                Reality TV\n",
       "Prank Encounters               TV Comedies\n",
       "dtype: object"
      ]
     },
     "execution_count": 63,
     "metadata": {},
     "output_type": "execute_result"
    }
   ],
   "source": [
    "genres=df.set_index('title').listed_in.str.split(', ',expand=True).stack().reset_index(level=1, drop=True)\n",
    "genres.head()"
   ]
  },
  {
   "cell_type": "code",
   "execution_count": 64,
   "metadata": {},
   "outputs": [
    {
     "data": {
      "text/plain": [
       "Text(0.5, 1.0, 'Top 20 Genres on Netflix')"
      ]
     },
     "execution_count": 64,
     "metadata": {},
     "output_type": "execute_result"
    },
    {
     "data": {
      "image/png": "[encoded data removed]",
      "text/plain": [
       "<Figure size 1080x576 with 1 Axes>"
      ]
     },
     "metadata": {},
     "output_type": "display_data"
    }
   ],
   "source": [
    "plt.figure(figsize=(15,8))\n",
    "gen=sns.countplot(y=genres,order=genres.value_counts().index[:20],palette=['Red','Black'])\n",
    "plt.title('Top 20 Genres on Netflix')"
   ]
  },
  {
   "cell_type": "code",
   "execution_count": 65,
   "metadata": {},
   "outputs": [
    {
     "data": {
      "text/plain": [
       "Text(0.5, 1.0, 'Countries with most shows on Netfix')"
      ]
     },
     "execution_count": 65,
     "metadata": {},
     "output_type": "execute_result"
    },
    {
     "data": {
      "image/png": "[encoded data removed]",
      "text/plain": [
       "<Figure size 864x576 with 1 Axes>"
      ]
     },
     "metadata": {},
     "output_type": "display_data"
    }
   ],
   "source": [
    "plt.figure(figsize=(12,8))\n",
    "gen=sns.countplot(y=df['country'],order=df.country.value_counts().index[:20],palette=['Red','Black'])\n",
    "plt.title('Countries with most shows on Netfix')"
   ]
  },
  {
   "cell_type": "code",
   "execution_count": 66,
   "metadata": {},
   "outputs": [
    {
     "data": {
      "text/html": [
       "<div>\n",
       "<style scoped>\n",
       "    .dataframe tbody tr th:only-of-type {\n",
       "        vertical-align: middle;\n",
       "    }\n",
       "\n",
       "    .dataframe tbody tr th {\n",
       "        vertical-align: top;\n",
       "    }\n",
       "\n",
       "    .dataframe thead th {\n",
       "        text-align: right;\n",
       "    }\n",
       "</style>\n",
       "<table border=\"1\" class=\"dataframe\">\n",
       "  <thead>\n",
       "    <tr style=\"text-align: right;\">\n",
       "      <th></th>\n",
       "      <th>title</th>\n",
       "      <th>release_year</th>\n",
       "    </tr>\n",
       "  </thead>\n",
       "  <tbody>\n",
       "    <tr>\n",
       "      <th>8799</th>\n",
       "      <td>Pioneers: First Women Filmmakers*</td>\n",
       "      <td>1925</td>\n",
       "    </tr>\n",
       "    <tr>\n",
       "      <th>8798</th>\n",
       "      <td>The Battle of Midway</td>\n",
       "      <td>1942</td>\n",
       "    </tr>\n",
       "    <tr>\n",
       "      <th>8797</th>\n",
       "      <td>Prelude to War</td>\n",
       "      <td>1942</td>\n",
       "    </tr>\n",
       "    <tr>\n",
       "      <th>8794</th>\n",
       "      <td>Undercover: How to Operate Behind Enemy Lines</td>\n",
       "      <td>1943</td>\n",
       "    </tr>\n",
       "    <tr>\n",
       "      <th>8796</th>\n",
       "      <td>WWII: Report from the Aleutians</td>\n",
       "      <td>1943</td>\n",
       "    </tr>\n",
       "    <tr>\n",
       "      <th>8795</th>\n",
       "      <td>Why We Fight: The Battle of Russia</td>\n",
       "      <td>1943</td>\n",
       "    </tr>\n",
       "    <tr>\n",
       "      <th>8793</th>\n",
       "      <td>Tunisian Victory</td>\n",
       "      <td>1944</td>\n",
       "    </tr>\n",
       "    <tr>\n",
       "      <th>8792</th>\n",
       "      <td>The Negro Soldier</td>\n",
       "      <td>1944</td>\n",
       "    </tr>\n",
       "    <tr>\n",
       "      <th>8791</th>\n",
       "      <td>The Memphis Belle: A Story of a\\nFlying Fortress</td>\n",
       "      <td>1944</td>\n",
       "    </tr>\n",
       "    <tr>\n",
       "      <th>8790</th>\n",
       "      <td>San Pietro</td>\n",
       "      <td>1945</td>\n",
       "    </tr>\n",
       "  </tbody>\n",
       "</table>\n",
       "</div>"
      ],
      "text/plain": [
       "                                                 title  release_year\n",
       "8799                 Pioneers: First Women Filmmakers*          1925\n",
       "8798                              The Battle of Midway          1942\n",
       "8797                                    Prelude to War          1942\n",
       "8794     Undercover: How to Operate Behind Enemy Lines          1943\n",
       "8796                   WWII: Report from the Aleutians          1943\n",
       "8795                Why We Fight: The Battle of Russia          1943\n",
       "8793                                  Tunisian Victory          1944\n",
       "8792                                 The Negro Soldier          1944\n",
       "8791  The Memphis Belle: A Story of a\\nFlying Fortress          1944\n",
       "8790                                        San Pietro          1945"
      ]
     },
     "execution_count": 66,
     "metadata": {},
     "output_type": "execute_result"
    }
   ],
   "source": [
    "sort_data = df.sort_values(\"release_year\", ascending = True)\n",
    "sort_data[['title', \"release_year\"]][:10]"
   ]
  }
 ],
 "metadata": {
  "interpreter": {
   "hash": "f180d07e1bda691ad01bd6308b6e87682a3bf877ef95c70ba2a76860b3fb7dc0"
  },
  "kernelspec": {
   "display_name": "Python 3.10.0 64-bit",
   "language": "python",
   "name": "python3"
  },
  "language_info": {
   "codemirror_mode": {
    "name": "ipython",
    "version": 3
   },
   "file_extension": ".py",
   "mimetype": "text/x-python",
   "name": "python",
   "nbconvert_exporter": "python",
   "pygments_lexer": "ipython3",
   "version": "3.10.0"
  },
  "orig_nbformat": 4
 },
 "nbformat": 4,
 "nbformat_minor": 2
}
